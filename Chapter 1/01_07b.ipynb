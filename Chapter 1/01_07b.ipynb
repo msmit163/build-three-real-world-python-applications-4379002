{
 "cells": [
  {
   "cell_type": "markdown",
   "id": "bc565dcb",
   "metadata": {},
   "source": [
    "# Scraping Wisdom Pet Medicine Website"
   ]
  },
  {
   "cell_type": "markdown",
   "id": "8c027b17",
   "metadata": {},
   "source": [
    "### Imports- **Run First**"
   ]
  },
  {
   "cell_type": "code",
   "execution_count": 1,
   "id": "b7d60b59",
   "metadata": {},
   "outputs": [],
   "source": [
    "#import requests packages\n",
    "import requests"
   ]
  },
  {
   "cell_type": "code",
   "execution_count": 2,
   "id": "6dfa25ec",
   "metadata": {},
   "outputs": [],
   "source": [
    "#scrape data from Wisdom Pet Medicine website and save to response variable\n",
    "response = requests.get('http://www.wisdompetmed.com/')"
   ]
  },
  {
   "cell_type": "markdown",
   "id": "125b6611",
   "metadata": {},
   "source": [
    "### How to retrieve web page information"
   ]
  },
  {
   "cell_type": "code",
   "execution_count": 3,
   "id": "d3ab118d",
   "metadata": {
    "scrolled": true
   },
   "outputs": [
    {
     "data": {
      "text/plain": [
       "'http://www.wisdompetmed.com/'"
      ]
     },
     "execution_count": 3,
     "metadata": {},
     "output_type": "execute_result"
    }
   ],
   "source": [
    "#retrieve url of Wisdom Pet Medicine website\n",
    "response.url"
   ]
  },
  {
   "cell_type": "code",
   "execution_count": 4,
   "id": "4c5bc690",
   "metadata": {},
   "outputs": [
    {
     "data": {
      "text/plain": [
       "200"
      ]
     },
     "execution_count": 4,
     "metadata": {},
     "output_type": "execute_result"
    }
   ],
   "source": [
    "# retrieve status code of Wisdom Pet Medicine website\n",
    "response.status_code \n",
    "#status code = 3 parts (three digits 123)\n",
    "#part1/digit 1 of status code = what category the message the server has sent us -> 2 means successful response \n",
    "#part2/digits 2 and 3 of status code = description of what the message the server has sent us -> 00 paired with category 2 means \"okay\" successfully made connection \n",
    "\n",
    "#100-199 = informational codes  mainly used to communicate directly with systems on backend\n",
    "#200-299 = successful codes     usually want to receive this \n",
    "#300-399 = redirection codes    usually want to receive this - check URL to see if there is a better option \n",
    "#400-499 = client error codes   user made mistake \n",
    "#500-599 = server error codes   server messed up "
   ]
  },
  {
   "cell_type": "code",
   "execution_count": null,
   "id": "3c654237",
   "metadata": {},
   "outputs": [],
   "source": [
    "# retrieve headers of Wisdom Pet Medicine website\n"
   ]
  }
 ],
 "metadata": {
  "kernelspec": {
   "display_name": "Python 3 (ipykernel)",
   "language": "python",
   "name": "python3"
  },
  "language_info": {
   "codemirror_mode": {
    "name": "ipython",
    "version": 3
   },
   "file_extension": ".py",
   "mimetype": "text/x-python",
   "name": "python",
   "nbconvert_exporter": "python",
   "pygments_lexer": "ipython3",
   "version": "3.10.8"
  }
 },
 "nbformat": 4,
 "nbformat_minor": 5
}
